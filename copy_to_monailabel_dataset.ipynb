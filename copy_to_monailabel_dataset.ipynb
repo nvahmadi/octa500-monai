{
 "cells": [
  {
   "cell_type": "code",
   "execution_count": 10,
   "id": "d18b134e-3d52-4722-b11e-ad01c4328480",
   "metadata": {},
   "outputs": [],
   "source": [
    "import os\n",
    "import shutil\n",
    "from pprint import pprint\n",
    "from tqdm import tqdm"
   ]
  },
  {
   "cell_type": "code",
   "execution_count": 28,
   "id": "fb59015c-06a4-4538-8979-6eac4b87d0e1",
   "metadata": {},
   "outputs": [
    {
     "name": "stdout",
     "output_type": "stream",
     "text": [
      "{'label_3D_FAZ': '/workspace/Projects/datasets/OCTA-500/OCTA500_MONAI_3mm/10301/label_3D_FAZ.nii.gz',\n",
      " 'label_3D_Layers': '/workspace/Projects/datasets/OCTA-500/OCTA500_MONAI_3mm/10301/label_3D_Layers.nii.gz',\n",
      " 'vol_OCT': '/workspace/Projects/datasets/OCTA-500/OCTA500_MONAI_3mm/10301/vol_OCT.nii.gz',\n",
      " 'vol_OCTA': '/workspace/Projects/datasets/OCTA-500/OCTA500_MONAI_3mm/10301/vol_OCTA.nii.gz'}\n"
     ]
    }
   ],
   "source": [
    "basepath = os.path.normpath(\n",
    "    os.path.join(os.getcwd(), \"..\", \"datasets/OCTA-500/OCTA500_MONAI_3mm\")\n",
    ")\n",
    "paths = sorted(os.listdir(basepath))\n",
    "paths = [path for path in paths if path != '.ipynb_checkpoints']\n",
    "all_samples = []\n",
    "for path in paths:\n",
    "    all_samples.append(\n",
    "        {\n",
    "            \"vol_OCT\": os.path.join(basepath, path, \"vol_OCT.nii.gz\"),\n",
    "            \"vol_OCTA\": os.path.join(basepath, path, \"vol_OCTA.nii.gz\"),\n",
    "            \"label_3D_FAZ\": os.path.join(basepath, path, \"label_3D_FAZ.nii.gz\"),\n",
    "            \"label_3D_Layers\": os.path.join(basepath, path, \"label_3D_Layers.nii.gz\"),\n",
    "        }\n",
    "    )\n",
    "pprint(all_samples[0])"
   ]
  },
  {
   "cell_type": "markdown",
   "id": "ec1c1815-2169-4965-8930-749f24261da5",
   "metadata": {},
   "source": [
    "### Prepare target directories for labels \n",
    "**Groundtruth:** indicates volumes that already have been \"manually segmented\"\n",
    "\n",
    "**Backup:** Backup of all groundtruth segmentation, to allow simulating incremental batches of manual annotations "
   ]
  },
  {
   "cell_type": "code",
   "execution_count": 23,
   "id": "836073a0-9143-42ee-8361-156172af5efc",
   "metadata": {},
   "outputs": [],
   "source": [
    "tgt_path_images = \"/workspace/Projects/datasets/OCTA-500/OCTA500_MONAILABEL_3mm\"\n",
    "\n",
    "tgt_path_labels = os.path.join(tgt_path_images, \"labels\", \"final\")\n",
    "if not os.path.exists(tgt_path_labels):\n",
    "    os.makedirs(tgt_path_labels)\n",
    "\n",
    "tgt_path_labels_backup = os.path.join(tgt_path_images, \"labels\", \"backup\")\n",
    "if not os.path.exists(tgt_path_labels_backup):\n",
    "    os.makedirs(tgt_path_labels_backup)"
   ]
  },
  {
   "cell_type": "markdown",
   "id": "34c2fb65-0a33-4710-844a-65ea43a775d1",
   "metadata": {},
   "source": [
    "### Copy files"
   ]
  },
  {
   "cell_type": "code",
   "execution_count": 30,
   "id": "f26c9c08-bdf0-4d28-8175-6c93684a1324",
   "metadata": {},
   "outputs": [
    {
     "name": "stderr",
     "output_type": "stream",
     "text": [
      "100%|██████████| 200/200 [00:00<00:00, 3971.01it/s]\n"
     ]
    }
   ],
   "source": [
    "num_segs = 100\n",
    "verbose = False\n",
    "for idx, sample in enumerate(tqdm(all_samples)):\n",
    "    src_img_file = sample[\"vol_OCT\"]\n",
    "    subject_id = os.path.split(os.path.split(src_img_file)[0])[1]\n",
    "    tgt_filename = os.path.split(src_img_file)[1].replace(\".nii.gz\", f\"_{subject_id}.nii.gz\")\n",
    "    \n",
    "    # copy image\n",
    "    tgt_img_file = os.path.join(tgt_path_images, tgt_filename)\n",
    "    if not os.path.exists(tgt_img_file):\n",
    "        shutil.copyfile(src_img_file, tgt_img_file)\n",
    "    \n",
    "    # copy gt labels\n",
    "    src_lab_file = sample[\"label_3D_Layers\"]\n",
    "    if idx in list(range(num_segs)):\n",
    "        tgt_lab_file = os.path.join(tgt_path_labels, tgt_filename)\n",
    "        if not os.path.exists(tgt_lab_file):\n",
    "            shutil.copyfile(src_lab_file, tgt_lab_file)\n",
    "    \n",
    "    # copy backup labels\n",
    "    tgt_lab_file = os.path.join(tgt_path_labels_backup, tgt_filename)\n",
    "    if not os.path.exists(tgt_lab_file):\n",
    "        shutil.copyfile(src_lab_file, tgt_lab_file)\n",
    "    \n",
    "    if verbose:\n",
    "        print(\"##################\")\n",
    "        print(\"Image file:\")\n",
    "        print(f\"From:{src_img_file}\\nTo: {tgt_img_file}\")\n",
    "        print(\"\\nLabelfile:\")\n",
    "        print(f\"From:{src_lab_file}\\nTo: {tgt_lab_file}\")\n",
    "    #if idx>15:\n",
    "    #    break"
   ]
  },
  {
   "cell_type": "code",
   "execution_count": null,
   "id": "e59fcd1a-2989-4735-a7f9-8e4392f0e4a0",
   "metadata": {},
   "outputs": [],
   "source": []
  }
 ],
 "metadata": {
  "kernelspec": {
   "display_name": "Python 3 (ipykernel)",
   "language": "python",
   "name": "python3"
  },
  "language_info": {
   "codemirror_mode": {
    "name": "ipython",
    "version": 3
   },
   "file_extension": ".py",
   "mimetype": "text/x-python",
   "name": "python",
   "nbconvert_exporter": "python",
   "pygments_lexer": "ipython3",
   "version": "3.10.12"
  }
 },
 "nbformat": 4,
 "nbformat_minor": 5
}
